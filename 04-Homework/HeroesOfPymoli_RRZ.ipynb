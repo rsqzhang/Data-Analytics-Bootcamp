{
 "cells": [
  {
   "cell_type": "markdown",
   "metadata": {},
   "source": [
    "### Heroes Of Pymoli Data Analysis\n",
    "* Of the 1163 active players, the vast majority are male (84%). There also exists, a smaller, but notable proportion of female players (14%).\n",
    "\n",
    "* Our peak age demographic falls between 20-24 (44.8%) with secondary groups falling between 15-19 (18.60%) and 25-29 (13.4%).  \n",
    "-----"
   ]
  },
  {
   "cell_type": "markdown",
   "metadata": {},
   "source": [
    "### Note\n",
    "* Instructions have been included for each segment. You do not have to follow them exactly, but they are included to help you think through the steps."
   ]
  },
  {
   "cell_type": "code",
   "execution_count": 1,
   "metadata": {},
   "outputs": [
    {
     "data": {
      "text/html": [
       "<div>\n",
       "<style scoped>\n",
       "    .dataframe tbody tr th:only-of-type {\n",
       "        vertical-align: middle;\n",
       "    }\n",
       "\n",
       "    .dataframe tbody tr th {\n",
       "        vertical-align: top;\n",
       "    }\n",
       "\n",
       "    .dataframe thead th {\n",
       "        text-align: right;\n",
       "    }\n",
       "</style>\n",
       "<table border=\"1\" class=\"dataframe\">\n",
       "  <thead>\n",
       "    <tr style=\"text-align: right;\">\n",
       "      <th></th>\n",
       "      <th>Purchase ID</th>\n",
       "      <th>SN</th>\n",
       "      <th>Age</th>\n",
       "      <th>Gender</th>\n",
       "      <th>Item ID</th>\n",
       "      <th>Item Name</th>\n",
       "      <th>Price</th>\n",
       "    </tr>\n",
       "  </thead>\n",
       "  <tbody>\n",
       "    <tr>\n",
       "      <th>0</th>\n",
       "      <td>0</td>\n",
       "      <td>Lisim78</td>\n",
       "      <td>20</td>\n",
       "      <td>Male</td>\n",
       "      <td>108</td>\n",
       "      <td>Extraction, Quickblade Of Trembling Hands</td>\n",
       "      <td>3.53</td>\n",
       "    </tr>\n",
       "    <tr>\n",
       "      <th>1</th>\n",
       "      <td>1</td>\n",
       "      <td>Lisovynya38</td>\n",
       "      <td>40</td>\n",
       "      <td>Male</td>\n",
       "      <td>143</td>\n",
       "      <td>Frenzied Scimitar</td>\n",
       "      <td>1.56</td>\n",
       "    </tr>\n",
       "    <tr>\n",
       "      <th>2</th>\n",
       "      <td>2</td>\n",
       "      <td>Ithergue48</td>\n",
       "      <td>24</td>\n",
       "      <td>Male</td>\n",
       "      <td>92</td>\n",
       "      <td>Final Critic</td>\n",
       "      <td>4.88</td>\n",
       "    </tr>\n",
       "    <tr>\n",
       "      <th>3</th>\n",
       "      <td>3</td>\n",
       "      <td>Chamassasya86</td>\n",
       "      <td>24</td>\n",
       "      <td>Male</td>\n",
       "      <td>100</td>\n",
       "      <td>Blindscythe</td>\n",
       "      <td>3.27</td>\n",
       "    </tr>\n",
       "    <tr>\n",
       "      <th>4</th>\n",
       "      <td>4</td>\n",
       "      <td>Iskosia90</td>\n",
       "      <td>23</td>\n",
       "      <td>Male</td>\n",
       "      <td>131</td>\n",
       "      <td>Fury</td>\n",
       "      <td>1.44</td>\n",
       "    </tr>\n",
       "  </tbody>\n",
       "</table>\n",
       "</div>"
      ],
      "text/plain": [
       "   Purchase ID             SN  Age Gender  Item ID  \\\n",
       "0            0        Lisim78   20   Male      108   \n",
       "1            1    Lisovynya38   40   Male      143   \n",
       "2            2     Ithergue48   24   Male       92   \n",
       "3            3  Chamassasya86   24   Male      100   \n",
       "4            4      Iskosia90   23   Male      131   \n",
       "\n",
       "                                   Item Name  Price  \n",
       "0  Extraction, Quickblade Of Trembling Hands   3.53  \n",
       "1                          Frenzied Scimitar   1.56  \n",
       "2                               Final Critic   4.88  \n",
       "3                                Blindscythe   3.27  \n",
       "4                                       Fury   1.44  "
      ]
     },
     "execution_count": 1,
     "metadata": {},
     "output_type": "execute_result"
    }
   ],
   "source": [
    "# Dependencies and Setup\n",
    "import pandas as pd\n",
    "import numpy as np\n",
    "\n",
    "# File to Load (Remember to Change These)\n",
    "file_to_load = \"Resources/purchase_data.csv\"\n",
    "\n",
    "# Read Purchasing File and store into Pandas data frame\n",
    "purchase_data = pd.read_csv(file_to_load)\n",
    "purchase_data.head()"
   ]
  },
  {
   "cell_type": "markdown",
   "metadata": {},
   "source": [
    "## Player Count"
   ]
  },
  {
   "cell_type": "markdown",
   "metadata": {},
   "source": [
    "* Display the total number of players\n"
   ]
  },
  {
   "cell_type": "code",
   "execution_count": 2,
   "metadata": {},
   "outputs": [
    {
     "data": {
      "text/html": [
       "<div>\n",
       "<style scoped>\n",
       "    .dataframe tbody tr th:only-of-type {\n",
       "        vertical-align: middle;\n",
       "    }\n",
       "\n",
       "    .dataframe tbody tr th {\n",
       "        vertical-align: top;\n",
       "    }\n",
       "\n",
       "    .dataframe thead th {\n",
       "        text-align: right;\n",
       "    }\n",
       "</style>\n",
       "<table border=\"1\" class=\"dataframe\">\n",
       "  <thead>\n",
       "    <tr style=\"text-align: right;\">\n",
       "      <th></th>\n",
       "      <th>Total Players</th>\n",
       "    </tr>\n",
       "  </thead>\n",
       "  <tbody>\n",
       "    <tr>\n",
       "      <th>0</th>\n",
       "      <td>576</td>\n",
       "    </tr>\n",
       "  </tbody>\n",
       "</table>\n",
       "</div>"
      ],
      "text/plain": [
       "   Total Players\n",
       "0            576"
      ]
     },
     "execution_count": 2,
     "metadata": {},
     "output_type": "execute_result"
    }
   ],
   "source": [
    "# Calculate the count of players\n",
    "total_count = len(purchase_data[\"SN\"].unique())\n",
    "\n",
    "# Display the total number of players\n",
    "player_count = pd.DataFrame({\"Total Players\": [total_count]})\n",
    "player_count.head()"
   ]
  },
  {
   "cell_type": "markdown",
   "metadata": {},
   "source": [
    "## Purchasing Analysis (Total)"
   ]
  },
  {
   "cell_type": "markdown",
   "metadata": {},
   "source": [
    "* Run basic calculations to obtain number of unique items, average price, etc.\n",
    "\n",
    "\n",
    "* Create a summary data frame to hold the results\n",
    "\n",
    "\n",
    "* Optional: give the displayed data cleaner formatting\n",
    "\n",
    "\n",
    "* Display the summary data frame\n"
   ]
  },
  {
   "cell_type": "code",
   "execution_count": 3,
   "metadata": {
    "scrolled": true
   },
   "outputs": [
    {
     "data": {
      "text/html": [
       "<style  type=\"text/css\" >\n",
       "</style>  \n",
       "<table id=\"T_49ec717e_dfea_11e8_bf31_685d43caeb20\" > \n",
       "<thead>    <tr> \n",
       "        <th class=\"blank level0\" ></th> \n",
       "        <th class=\"col_heading level0 col0\" >Number of Unique Items</th> \n",
       "        <th class=\"col_heading level0 col1\" >Average Price</th> \n",
       "        <th class=\"col_heading level0 col2\" >Number of Purchases</th> \n",
       "        <th class=\"col_heading level0 col3\" >Total Revenue</th> \n",
       "    </tr></thead> \n",
       "<tbody>    <tr> \n",
       "        <th id=\"T_49ec717e_dfea_11e8_bf31_685d43caeb20level0_row0\" class=\"row_heading level0 row0\" >0</th> \n",
       "        <td id=\"T_49ec717e_dfea_11e8_bf31_685d43caeb20row0_col0\" class=\"data row0 col0\" >183</td> \n",
       "        <td id=\"T_49ec717e_dfea_11e8_bf31_685d43caeb20row0_col1\" class=\"data row0 col1\" >$3.05</td> \n",
       "        <td id=\"T_49ec717e_dfea_11e8_bf31_685d43caeb20row0_col2\" class=\"data row0 col2\" >780</td> \n",
       "        <td id=\"T_49ec717e_dfea_11e8_bf31_685d43caeb20row0_col3\" class=\"data row0 col3\" >$2379.77</td> \n",
       "    </tr></tbody> \n",
       "</table> "
      ],
      "text/plain": [
       "<pandas.io.formats.style.Styler at 0x7e76630>"
      ]
     },
     "execution_count": 3,
     "metadata": {},
     "output_type": "execute_result"
    }
   ],
   "source": [
    "# Calculate the number of unique items, average price, etc.\n",
    "unique_items = purchase_data[\"Item ID\"].unique()\n",
    "average_price = purchase_data[\"Price\"].sum() / purchase_data['Price'].count()\n",
    "total_purchases = purchase_data[\"Price\"].count()\n",
    "total_revenue = purchase_data[\"Price\"].sum()\n",
    "\n",
    "# Create the summary data frame\n",
    "purchasing_analysis_total = pd.DataFrame({\"Number of Unique Items\": [len(unique_items)], \n",
    "                                          \"Average Price\": [average_price],\n",
    "                                          \"Number of Purchases\": [total_purchases],\n",
    "                                          \"Total Revenue\": [total_revenue]})\n",
    "\n",
    "# Clean up the formatting of the summary data frame\n",
    "purchasing_analysis_total.style.format({\"Average Price\": \"${:.2f}\",\n",
    "                                        \"Total Revenue\": \"${:.2f}\"})"
   ]
  },
  {
   "cell_type": "markdown",
   "metadata": {},
   "source": [
    "## Gender Demographics"
   ]
  },
  {
   "cell_type": "markdown",
   "metadata": {},
   "source": [
    "* Percentage and Count of Male Players\n",
    "\n",
    "\n",
    "* Percentage and Count of Female Players\n",
    "\n",
    "\n",
    "* Percentage and Count of Other / Non-Disclosed\n",
    "\n",
    "\n"
   ]
  },
  {
   "cell_type": "code",
   "execution_count": 4,
   "metadata": {},
   "outputs": [
    {
     "data": {
      "text/html": [
       "<style  type=\"text/css\" >\n",
       "</style>  \n",
       "<table id=\"T_49f0692c_dfea_11e8_afb7_685d43caeb20\" > \n",
       "<thead>    <tr> \n",
       "        <th class=\"blank level0\" ></th> \n",
       "        <th class=\"col_heading level0 col0\" >Gender</th> \n",
       "        <th class=\"col_heading level0 col1\" >Total Count</th> \n",
       "        <th class=\"col_heading level0 col2\" >Percentage of Players</th> \n",
       "    </tr></thead> \n",
       "<tbody>    <tr> \n",
       "        <th id=\"T_49f0692c_dfea_11e8_afb7_685d43caeb20level0_row0\" class=\"row_heading level0 row0\" >0</th> \n",
       "        <td id=\"T_49f0692c_dfea_11e8_afb7_685d43caeb20row0_col0\" class=\"data row0 col0\" >Male</td> \n",
       "        <td id=\"T_49f0692c_dfea_11e8_afb7_685d43caeb20row0_col1\" class=\"data row0 col1\" >484</td> \n",
       "        <td id=\"T_49f0692c_dfea_11e8_afb7_685d43caeb20row0_col2\" class=\"data row0 col2\" >84.03%</td> \n",
       "    </tr>    <tr> \n",
       "        <th id=\"T_49f0692c_dfea_11e8_afb7_685d43caeb20level0_row1\" class=\"row_heading level0 row1\" >1</th> \n",
       "        <td id=\"T_49f0692c_dfea_11e8_afb7_685d43caeb20row1_col0\" class=\"data row1 col0\" >Female</td> \n",
       "        <td id=\"T_49f0692c_dfea_11e8_afb7_685d43caeb20row1_col1\" class=\"data row1 col1\" >81</td> \n",
       "        <td id=\"T_49f0692c_dfea_11e8_afb7_685d43caeb20row1_col2\" class=\"data row1 col2\" >14.06%</td> \n",
       "    </tr>    <tr> \n",
       "        <th id=\"T_49f0692c_dfea_11e8_afb7_685d43caeb20level0_row2\" class=\"row_heading level0 row2\" >2</th> \n",
       "        <td id=\"T_49f0692c_dfea_11e8_afb7_685d43caeb20row2_col0\" class=\"data row2 col0\" >Other / Non-Disclosed</td> \n",
       "        <td id=\"T_49f0692c_dfea_11e8_afb7_685d43caeb20row2_col1\" class=\"data row2 col1\" >11</td> \n",
       "        <td id=\"T_49f0692c_dfea_11e8_afb7_685d43caeb20row2_col2\" class=\"data row2 col2\" >1.91%</td> \n",
       "    </tr></tbody> \n",
       "</table> "
      ],
      "text/plain": [
       "<pandas.io.formats.style.Styler at 0x8f1cbe0>"
      ]
     },
     "execution_count": 4,
     "metadata": {},
     "output_type": "execute_result"
    }
   ],
   "source": [
    "# Calculate the count of players\n",
    "male_count = len(purchase_data[\"SN\"][purchase_data[\"Gender\"] == \"Male\"].unique())\n",
    "female_count = len(purchase_data[\"SN\"][purchase_data[\"Gender\"] == \"Female\"].unique())\n",
    "other_count = total_count - (male_count + female_count)\n",
    "\n",
    "# Calculate the percentage of players\n",
    "male_percent = (male_count / total_count) * 100\n",
    "female_percent = (female_count / total_count) * 100\n",
    "other_percent = (other_count / total_count) * 100\n",
    "\n",
    "# Create the summary data frame\n",
    "gender_demographics = pd.DataFrame({\"Gender\": [\"Male\", \"Female\", \"Other / Non-Disclosed\"],\n",
    "                                    \"Total Count\": [male_count, female_count, other_count],\n",
    "                                    \"Percentage of Players\": [male_percent, female_percent, other_percent]})\n",
    "\n",
    "# Clean up the formatting of the summary data frame\n",
    "gender_demographics.style.format({\"Percentage of Players\": \"{:.2f}%\"})"
   ]
  },
  {
   "cell_type": "markdown",
   "metadata": {},
   "source": [
    "\n",
    "## Purchasing Analysis (Gender)"
   ]
  },
  {
   "cell_type": "markdown",
   "metadata": {},
   "source": [
    "* Run basic calculations to obtain purchase count, avg. purchase price, avg. purchase total per person etc. by gender\n",
    "\n",
    "\n",
    "\n",
    "\n",
    "* Create a summary data frame to hold the results\n",
    "\n",
    "\n",
    "* Optional: give the displayed data cleaner formatting\n",
    "\n",
    "\n",
    "* Display the summary data frame"
   ]
  },
  {
   "cell_type": "code",
   "execution_count": 5,
   "metadata": {},
   "outputs": [
    {
     "data": {
      "text/html": [
       "<style  type=\"text/css\" >\n",
       "</style>  \n",
       "<table id=\"T_49f8317a_dfea_11e8_91ec_685d43caeb20\" > \n",
       "<thead>    <tr> \n",
       "        <th class=\"blank level0\" ></th> \n",
       "        <th class=\"col_heading level0 col0\" >Gender</th> \n",
       "        <th class=\"col_heading level0 col1\" >Purchase Count</th> \n",
       "        <th class=\"col_heading level0 col2\" >Average Purchase Price</th> \n",
       "        <th class=\"col_heading level0 col3\" >Total Purchase Value</th> \n",
       "        <th class=\"col_heading level0 col4\" >Average Total Purchase per Person</th> \n",
       "    </tr></thead> \n",
       "<tbody>    <tr> \n",
       "        <th id=\"T_49f8317a_dfea_11e8_91ec_685d43caeb20level0_row0\" class=\"row_heading level0 row0\" >0</th> \n",
       "        <td id=\"T_49f8317a_dfea_11e8_91ec_685d43caeb20row0_col0\" class=\"data row0 col0\" >Male</td> \n",
       "        <td id=\"T_49f8317a_dfea_11e8_91ec_685d43caeb20row0_col1\" class=\"data row0 col1\" >652</td> \n",
       "        <td id=\"T_49f8317a_dfea_11e8_91ec_685d43caeb20row0_col2\" class=\"data row0 col2\" >$3.02</td> \n",
       "        <td id=\"T_49f8317a_dfea_11e8_91ec_685d43caeb20row0_col3\" class=\"data row0 col3\" >$1967.64</td> \n",
       "        <td id=\"T_49f8317a_dfea_11e8_91ec_685d43caeb20row0_col4\" class=\"data row0 col4\" >$4.07</td> \n",
       "    </tr>    <tr> \n",
       "        <th id=\"T_49f8317a_dfea_11e8_91ec_685d43caeb20level0_row1\" class=\"row_heading level0 row1\" >1</th> \n",
       "        <td id=\"T_49f8317a_dfea_11e8_91ec_685d43caeb20row1_col0\" class=\"data row1 col0\" >Female</td> \n",
       "        <td id=\"T_49f8317a_dfea_11e8_91ec_685d43caeb20row1_col1\" class=\"data row1 col1\" >113</td> \n",
       "        <td id=\"T_49f8317a_dfea_11e8_91ec_685d43caeb20row1_col2\" class=\"data row1 col2\" >$3.20</td> \n",
       "        <td id=\"T_49f8317a_dfea_11e8_91ec_685d43caeb20row1_col3\" class=\"data row1 col3\" >$361.94</td> \n",
       "        <td id=\"T_49f8317a_dfea_11e8_91ec_685d43caeb20row1_col4\" class=\"data row1 col4\" >$4.47</td> \n",
       "    </tr>    <tr> \n",
       "        <th id=\"T_49f8317a_dfea_11e8_91ec_685d43caeb20level0_row2\" class=\"row_heading level0 row2\" >2</th> \n",
       "        <td id=\"T_49f8317a_dfea_11e8_91ec_685d43caeb20row2_col0\" class=\"data row2 col0\" >Other / Non-Disclosed</td> \n",
       "        <td id=\"T_49f8317a_dfea_11e8_91ec_685d43caeb20row2_col1\" class=\"data row2 col1\" >15</td> \n",
       "        <td id=\"T_49f8317a_dfea_11e8_91ec_685d43caeb20row2_col2\" class=\"data row2 col2\" >$3.35</td> \n",
       "        <td id=\"T_49f8317a_dfea_11e8_91ec_685d43caeb20row2_col3\" class=\"data row2 col3\" >$50.19</td> \n",
       "        <td id=\"T_49f8317a_dfea_11e8_91ec_685d43caeb20row2_col4\" class=\"data row2 col4\" >$4.56</td> \n",
       "    </tr></tbody> \n",
       "</table> "
      ],
      "text/plain": [
       "<pandas.io.formats.style.Styler at 0x8f1cf60>"
      ]
     },
     "execution_count": 5,
     "metadata": {},
     "output_type": "execute_result"
    }
   ],
   "source": [
    "# Calculate the purchase count, average purchase price, etc. for male players\n",
    "male_purchases = purchase_data[\"Price\"][purchase_data[\"Gender\"] == \"Male\"].count()\n",
    "male_average_price = purchase_data[\"Price\"][purchase_data[\"Gender\"] == \"Male\"].mean()\n",
    "male_revenue = purchase_data[\"Price\"][purchase_data[\"Gender\"] == \"Male\"].sum()\n",
    "male_average_revenue = male_revenue / male_count\n",
    "\n",
    "# Calculate the purchase count, average purchase price, etc. for female players\n",
    "female_purchases = purchase_data[\"Price\"][purchase_data[\"Gender\"] == \"Female\"].count()\n",
    "female_average_price = purchase_data[\"Price\"][purchase_data[\"Gender\"] == \"Female\"].mean()\n",
    "female_revenue = purchase_data[\"Price\"][purchase_data[\"Gender\"] == \"Female\"].sum()\n",
    "female_average_revenue = female_revenue / female_count\n",
    "\n",
    "# Calculate the purchase count, average purchase price, etc. for other players\n",
    "other_purchases = total_purchases - (male_purchases + female_purchases)\n",
    "other_average_price = purchase_data[\"Price\"][purchase_data[\"Gender\"] == \"Other / Non-Disclosed\"].mean()\n",
    "other_revenue = purchase_data[\"Price\"][purchase_data[\"Gender\"] == \"Other / Non-Disclosed\"].sum()\n",
    "other_average_revenue = other_revenue / other_count\n",
    "\n",
    "# Create the summary data frame\n",
    "purchasing_analysis_gender = pd.DataFrame({\"Gender\": [\"Male\", \"Female\", \"Other / Non-Disclosed\"],\n",
    "                                           \"Purchase Count\": [male_purchases, female_purchases, other_purchases],\n",
    "                                           \"Average Purchase Price\": [male_average_price, female_average_price, other_average_price],\n",
    "                                           \"Total Purchase Value\": [male_revenue, female_revenue, other_revenue],\n",
    "                                           \"Average Total Purchase per Person\": [male_average_revenue, female_average_revenue, other_average_revenue]})\n",
    "\n",
    "# Clean up the formatting of the summary data frame\n",
    "purchasing_analysis_gender.style.format({\"Average Purchase Price\": \"${:.2f}\",\n",
    "                                         \"Total Purchase Value\": \"${:.2f}\",\n",
    "                                         \"Average Total Purchase per Person\": \"${:.2f}\"})"
   ]
  },
  {
   "cell_type": "markdown",
   "metadata": {},
   "source": [
    "## Age Demographics"
   ]
  },
  {
   "cell_type": "markdown",
   "metadata": {},
   "source": [
    "* Establish bins for ages\n",
    "\n",
    "\n",
    "* Categorize the existing players using the age bins. Hint: use pd.cut()\n",
    "\n",
    "\n",
    "* Calculate the numbers and percentages by age group\n",
    "\n",
    "\n",
    "* Create a summary data frame to hold the results\n",
    "\n",
    "\n",
    "* Optional: round the percentage column to two decimal points\n",
    "\n",
    "\n",
    "* Display Age Demographics Table\n"
   ]
  },
  {
   "cell_type": "code",
   "execution_count": 6,
   "metadata": {},
   "outputs": [
    {
     "data": {
      "text/html": [
       "<style  type=\"text/css\" >\n",
       "</style>  \n",
       "<table id=\"T_4a006ef8_dfea_11e8_8996_685d43caeb20\" > \n",
       "<thead>    <tr> \n",
       "        <th class=\"blank level0\" ></th> \n",
       "        <th class=\"col_heading level0 col0\" >Age</th> \n",
       "        <th class=\"col_heading level0 col1\" >Total Count</th> \n",
       "        <th class=\"col_heading level0 col2\" >Percentage of Players</th> \n",
       "    </tr></thead> \n",
       "<tbody>    <tr> \n",
       "        <th id=\"T_4a006ef8_dfea_11e8_8996_685d43caeb20level0_row0\" class=\"row_heading level0 row0\" >0</th> \n",
       "        <td id=\"T_4a006ef8_dfea_11e8_8996_685d43caeb20row0_col0\" class=\"data row0 col0\" ><10</td> \n",
       "        <td id=\"T_4a006ef8_dfea_11e8_8996_685d43caeb20row0_col1\" class=\"data row0 col1\" >17</td> \n",
       "        <td id=\"T_4a006ef8_dfea_11e8_8996_685d43caeb20row0_col2\" class=\"data row0 col2\" >2.95%</td> \n",
       "    </tr>    <tr> \n",
       "        <th id=\"T_4a006ef8_dfea_11e8_8996_685d43caeb20level0_row1\" class=\"row_heading level0 row1\" >1</th> \n",
       "        <td id=\"T_4a006ef8_dfea_11e8_8996_685d43caeb20row1_col0\" class=\"data row1 col0\" >10-14</td> \n",
       "        <td id=\"T_4a006ef8_dfea_11e8_8996_685d43caeb20row1_col1\" class=\"data row1 col1\" >22</td> \n",
       "        <td id=\"T_4a006ef8_dfea_11e8_8996_685d43caeb20row1_col2\" class=\"data row1 col2\" >3.82%</td> \n",
       "    </tr>    <tr> \n",
       "        <th id=\"T_4a006ef8_dfea_11e8_8996_685d43caeb20level0_row2\" class=\"row_heading level0 row2\" >2</th> \n",
       "        <td id=\"T_4a006ef8_dfea_11e8_8996_685d43caeb20row2_col0\" class=\"data row2 col0\" >15-19</td> \n",
       "        <td id=\"T_4a006ef8_dfea_11e8_8996_685d43caeb20row2_col1\" class=\"data row2 col1\" >107</td> \n",
       "        <td id=\"T_4a006ef8_dfea_11e8_8996_685d43caeb20row2_col2\" class=\"data row2 col2\" >18.58%</td> \n",
       "    </tr>    <tr> \n",
       "        <th id=\"T_4a006ef8_dfea_11e8_8996_685d43caeb20level0_row3\" class=\"row_heading level0 row3\" >3</th> \n",
       "        <td id=\"T_4a006ef8_dfea_11e8_8996_685d43caeb20row3_col0\" class=\"data row3 col0\" >20-24</td> \n",
       "        <td id=\"T_4a006ef8_dfea_11e8_8996_685d43caeb20row3_col1\" class=\"data row3 col1\" >258</td> \n",
       "        <td id=\"T_4a006ef8_dfea_11e8_8996_685d43caeb20row3_col2\" class=\"data row3 col2\" >44.79%</td> \n",
       "    </tr>    <tr> \n",
       "        <th id=\"T_4a006ef8_dfea_11e8_8996_685d43caeb20level0_row4\" class=\"row_heading level0 row4\" >4</th> \n",
       "        <td id=\"T_4a006ef8_dfea_11e8_8996_685d43caeb20row4_col0\" class=\"data row4 col0\" >25-29</td> \n",
       "        <td id=\"T_4a006ef8_dfea_11e8_8996_685d43caeb20row4_col1\" class=\"data row4 col1\" >77</td> \n",
       "        <td id=\"T_4a006ef8_dfea_11e8_8996_685d43caeb20row4_col2\" class=\"data row4 col2\" >13.37%</td> \n",
       "    </tr>    <tr> \n",
       "        <th id=\"T_4a006ef8_dfea_11e8_8996_685d43caeb20level0_row5\" class=\"row_heading level0 row5\" >5</th> \n",
       "        <td id=\"T_4a006ef8_dfea_11e8_8996_685d43caeb20row5_col0\" class=\"data row5 col0\" >30-34</td> \n",
       "        <td id=\"T_4a006ef8_dfea_11e8_8996_685d43caeb20row5_col1\" class=\"data row5 col1\" >52</td> \n",
       "        <td id=\"T_4a006ef8_dfea_11e8_8996_685d43caeb20row5_col2\" class=\"data row5 col2\" >9.03%</td> \n",
       "    </tr>    <tr> \n",
       "        <th id=\"T_4a006ef8_dfea_11e8_8996_685d43caeb20level0_row6\" class=\"row_heading level0 row6\" >6</th> \n",
       "        <td id=\"T_4a006ef8_dfea_11e8_8996_685d43caeb20row6_col0\" class=\"data row6 col0\" >35-39</td> \n",
       "        <td id=\"T_4a006ef8_dfea_11e8_8996_685d43caeb20row6_col1\" class=\"data row6 col1\" >31</td> \n",
       "        <td id=\"T_4a006ef8_dfea_11e8_8996_685d43caeb20row6_col2\" class=\"data row6 col2\" >5.38%</td> \n",
       "    </tr>    <tr> \n",
       "        <th id=\"T_4a006ef8_dfea_11e8_8996_685d43caeb20level0_row7\" class=\"row_heading level0 row7\" >7</th> \n",
       "        <td id=\"T_4a006ef8_dfea_11e8_8996_685d43caeb20row7_col0\" class=\"data row7 col0\" >40+</td> \n",
       "        <td id=\"T_4a006ef8_dfea_11e8_8996_685d43caeb20row7_col1\" class=\"data row7 col1\" >12</td> \n",
       "        <td id=\"T_4a006ef8_dfea_11e8_8996_685d43caeb20row7_col2\" class=\"data row7 col2\" >2.08%</td> \n",
       "    </tr></tbody> \n",
       "</table> "
      ],
      "text/plain": [
       "<pandas.io.formats.style.Styler at 0x8f627b8>"
      ]
     },
     "execution_count": 6,
     "metadata": {},
     "output_type": "execute_result"
    }
   ],
   "source": [
    "# Categorize the ages\n",
    "under_ten = purchase_data[purchase_data[\"Age\"] < 10]\n",
    "early_teens = purchase_data[(purchase_data[\"Age\"] >= 10) & (purchase_data[\"Age\"] <= 14)]\n",
    "late_teens = purchase_data[(purchase_data[\"Age\"] >= 15) & (purchase_data[\"Age\"] <= 19)]\n",
    "early_twenties = purchase_data[(purchase_data[\"Age\"] >= 20) & (purchase_data[\"Age\"] <= 24)]\n",
    "late_twenties = purchase_data[(purchase_data[\"Age\"] >= 25) & (purchase_data[\"Age\"] <= 29)]\n",
    "early_thirties = purchase_data[(purchase_data[\"Age\"] >= 30) & (purchase_data[\"Age\"] <= 34)]\n",
    "late_thirties = purchase_data[(purchase_data[\"Age\"] >= 35) & (purchase_data[\"Age\"] <= 39)]\n",
    "forty_plus = purchase_data[(purchase_data[\"Age\"] >= 40)]\n",
    "\n",
    "# Create the summary data frame\n",
    "age_demographics = pd.DataFrame({\"Age\": [\"<10\", \"10-14\", \"15-19\", \"20-24\", \"25-29\", \"30-34\", \"35-39\", \"40+\"],\n",
    "                                 \"Total Count\": [len(under_ten[\"SN\"].unique()), len(early_teens[\"SN\"].unique()), len(late_teens[\"SN\"].unique()), len(early_twenties[\"SN\"].unique()), len(late_twenties[\"SN\"].unique()), len(early_thirties[\"SN\"].unique()), len(late_thirties[\"SN\"].unique()), len(forty_plus[\"SN\"].unique())],\n",
    "                                 \"Percentage of Players\": [len(under_ten[\"SN\"].unique()) / total_count * 100, len(early_teens[\"SN\"].unique()) / total_count * 100, len(late_teens[\"SN\"].unique()) / total_count * 100, len(early_twenties[\"SN\"].unique()) / total_count * 100, len(late_twenties[\"SN\"].unique()) / total_count * 100, len(early_thirties[\"SN\"].unique()) / total_count * 100, len(late_thirties[\"SN\"].unique()) / total_count * 100, len(forty_plus[\"SN\"].unique()) / total_count * 100]})\n",
    "\n",
    "# Clean up the formatting of the summary data frame\n",
    "age_demographics.style.format({\"Percentage of Players\": \"{:.2f}%\"})"
   ]
  },
  {
   "cell_type": "markdown",
   "metadata": {},
   "source": [
    "## Purchasing Analysis (Age)"
   ]
  },
  {
   "cell_type": "markdown",
   "metadata": {},
   "source": [
    "* Bin the purchase_data data frame by age\n",
    "\n",
    "\n",
    "* Run basic calculations to obtain purchase count, avg. purchase price, avg. purchase total per person etc. in the table below\n",
    "\n",
    "\n",
    "* Create a summary data frame to hold the results\n",
    "\n",
    "\n",
    "* Optional: give the displayed data cleaner formatting\n",
    "\n",
    "\n",
    "* Display the summary data frame"
   ]
  },
  {
   "cell_type": "code",
   "execution_count": 7,
   "metadata": {},
   "outputs": [
    {
     "data": {
      "text/html": [
       "<style  type=\"text/css\" >\n",
       "</style>  \n",
       "<table id=\"T_4a0725d2_dfea_11e8_b45a_685d43caeb20\" > \n",
       "<thead>    <tr> \n",
       "        <th class=\"blank level0\" ></th> \n",
       "        <th class=\"col_heading level0 col0\" >Age</th> \n",
       "        <th class=\"col_heading level0 col1\" >Purchase Count</th> \n",
       "        <th class=\"col_heading level0 col2\" >Average Purchase Price</th> \n",
       "        <th class=\"col_heading level0 col3\" >Total Purchase Value</th> \n",
       "        <th class=\"col_heading level0 col4\" >Average Total Purchase per Person</th> \n",
       "    </tr></thead> \n",
       "<tbody>    <tr> \n",
       "        <th id=\"T_4a0725d2_dfea_11e8_b45a_685d43caeb20level0_row0\" class=\"row_heading level0 row0\" >0</th> \n",
       "        <td id=\"T_4a0725d2_dfea_11e8_b45a_685d43caeb20row0_col0\" class=\"data row0 col0\" ><10</td> \n",
       "        <td id=\"T_4a0725d2_dfea_11e8_b45a_685d43caeb20row0_col1\" class=\"data row0 col1\" >23</td> \n",
       "        <td id=\"T_4a0725d2_dfea_11e8_b45a_685d43caeb20row0_col2\" class=\"data row0 col2\" >$3.35</td> \n",
       "        <td id=\"T_4a0725d2_dfea_11e8_b45a_685d43caeb20row0_col3\" class=\"data row0 col3\" >$77.13</td> \n",
       "        <td id=\"T_4a0725d2_dfea_11e8_b45a_685d43caeb20row0_col4\" class=\"data row0 col4\" >$4.54</td> \n",
       "    </tr>    <tr> \n",
       "        <th id=\"T_4a0725d2_dfea_11e8_b45a_685d43caeb20level0_row1\" class=\"row_heading level0 row1\" >1</th> \n",
       "        <td id=\"T_4a0725d2_dfea_11e8_b45a_685d43caeb20row1_col0\" class=\"data row1 col0\" >10-14</td> \n",
       "        <td id=\"T_4a0725d2_dfea_11e8_b45a_685d43caeb20row1_col1\" class=\"data row1 col1\" >28</td> \n",
       "        <td id=\"T_4a0725d2_dfea_11e8_b45a_685d43caeb20row1_col2\" class=\"data row1 col2\" >$2.96</td> \n",
       "        <td id=\"T_4a0725d2_dfea_11e8_b45a_685d43caeb20row1_col3\" class=\"data row1 col3\" >$82.78</td> \n",
       "        <td id=\"T_4a0725d2_dfea_11e8_b45a_685d43caeb20row1_col4\" class=\"data row1 col4\" >$3.76</td> \n",
       "    </tr>    <tr> \n",
       "        <th id=\"T_4a0725d2_dfea_11e8_b45a_685d43caeb20level0_row2\" class=\"row_heading level0 row2\" >2</th> \n",
       "        <td id=\"T_4a0725d2_dfea_11e8_b45a_685d43caeb20row2_col0\" class=\"data row2 col0\" >15-19</td> \n",
       "        <td id=\"T_4a0725d2_dfea_11e8_b45a_685d43caeb20row2_col1\" class=\"data row2 col1\" >136</td> \n",
       "        <td id=\"T_4a0725d2_dfea_11e8_b45a_685d43caeb20row2_col2\" class=\"data row2 col2\" >$3.04</td> \n",
       "        <td id=\"T_4a0725d2_dfea_11e8_b45a_685d43caeb20row2_col3\" class=\"data row2 col3\" >$412.89</td> \n",
       "        <td id=\"T_4a0725d2_dfea_11e8_b45a_685d43caeb20row2_col4\" class=\"data row2 col4\" >$3.86</td> \n",
       "    </tr>    <tr> \n",
       "        <th id=\"T_4a0725d2_dfea_11e8_b45a_685d43caeb20level0_row3\" class=\"row_heading level0 row3\" >3</th> \n",
       "        <td id=\"T_4a0725d2_dfea_11e8_b45a_685d43caeb20row3_col0\" class=\"data row3 col0\" >20-24</td> \n",
       "        <td id=\"T_4a0725d2_dfea_11e8_b45a_685d43caeb20row3_col1\" class=\"data row3 col1\" >365</td> \n",
       "        <td id=\"T_4a0725d2_dfea_11e8_b45a_685d43caeb20row3_col2\" class=\"data row3 col2\" >$3.05</td> \n",
       "        <td id=\"T_4a0725d2_dfea_11e8_b45a_685d43caeb20row3_col3\" class=\"data row3 col3\" >$1114.06</td> \n",
       "        <td id=\"T_4a0725d2_dfea_11e8_b45a_685d43caeb20row3_col4\" class=\"data row3 col4\" >$4.32</td> \n",
       "    </tr>    <tr> \n",
       "        <th id=\"T_4a0725d2_dfea_11e8_b45a_685d43caeb20level0_row4\" class=\"row_heading level0 row4\" >4</th> \n",
       "        <td id=\"T_4a0725d2_dfea_11e8_b45a_685d43caeb20row4_col0\" class=\"data row4 col0\" >25-29</td> \n",
       "        <td id=\"T_4a0725d2_dfea_11e8_b45a_685d43caeb20row4_col1\" class=\"data row4 col1\" >101</td> \n",
       "        <td id=\"T_4a0725d2_dfea_11e8_b45a_685d43caeb20row4_col2\" class=\"data row4 col2\" >$2.90</td> \n",
       "        <td id=\"T_4a0725d2_dfea_11e8_b45a_685d43caeb20row4_col3\" class=\"data row4 col3\" >$293.00</td> \n",
       "        <td id=\"T_4a0725d2_dfea_11e8_b45a_685d43caeb20row4_col4\" class=\"data row4 col4\" >$3.81</td> \n",
       "    </tr>    <tr> \n",
       "        <th id=\"T_4a0725d2_dfea_11e8_b45a_685d43caeb20level0_row5\" class=\"row_heading level0 row5\" >5</th> \n",
       "        <td id=\"T_4a0725d2_dfea_11e8_b45a_685d43caeb20row5_col0\" class=\"data row5 col0\" >30-34</td> \n",
       "        <td id=\"T_4a0725d2_dfea_11e8_b45a_685d43caeb20row5_col1\" class=\"data row5 col1\" >73</td> \n",
       "        <td id=\"T_4a0725d2_dfea_11e8_b45a_685d43caeb20row5_col2\" class=\"data row5 col2\" >$2.93</td> \n",
       "        <td id=\"T_4a0725d2_dfea_11e8_b45a_685d43caeb20row5_col3\" class=\"data row5 col3\" >$214.00</td> \n",
       "        <td id=\"T_4a0725d2_dfea_11e8_b45a_685d43caeb20row5_col4\" class=\"data row5 col4\" >$4.12</td> \n",
       "    </tr>    <tr> \n",
       "        <th id=\"T_4a0725d2_dfea_11e8_b45a_685d43caeb20level0_row6\" class=\"row_heading level0 row6\" >6</th> \n",
       "        <td id=\"T_4a0725d2_dfea_11e8_b45a_685d43caeb20row6_col0\" class=\"data row6 col0\" >35-39</td> \n",
       "        <td id=\"T_4a0725d2_dfea_11e8_b45a_685d43caeb20row6_col1\" class=\"data row6 col1\" >41</td> \n",
       "        <td id=\"T_4a0725d2_dfea_11e8_b45a_685d43caeb20row6_col2\" class=\"data row6 col2\" >$3.60</td> \n",
       "        <td id=\"T_4a0725d2_dfea_11e8_b45a_685d43caeb20row6_col3\" class=\"data row6 col3\" >$147.67</td> \n",
       "        <td id=\"T_4a0725d2_dfea_11e8_b45a_685d43caeb20row6_col4\" class=\"data row6 col4\" >$4.76</td> \n",
       "    </tr>    <tr> \n",
       "        <th id=\"T_4a0725d2_dfea_11e8_b45a_685d43caeb20level0_row7\" class=\"row_heading level0 row7\" >7</th> \n",
       "        <td id=\"T_4a0725d2_dfea_11e8_b45a_685d43caeb20row7_col0\" class=\"data row7 col0\" >40+</td> \n",
       "        <td id=\"T_4a0725d2_dfea_11e8_b45a_685d43caeb20row7_col1\" class=\"data row7 col1\" >13</td> \n",
       "        <td id=\"T_4a0725d2_dfea_11e8_b45a_685d43caeb20row7_col2\" class=\"data row7 col2\" >$2.94</td> \n",
       "        <td id=\"T_4a0725d2_dfea_11e8_b45a_685d43caeb20row7_col3\" class=\"data row7 col3\" >$38.24</td> \n",
       "        <td id=\"T_4a0725d2_dfea_11e8_b45a_685d43caeb20row7_col4\" class=\"data row7 col4\" >$3.19</td> \n",
       "    </tr></tbody> \n",
       "</table> "
      ],
      "text/plain": [
       "<pandas.io.formats.style.Styler at 0x8f85d30>"
      ]
     },
     "execution_count": 7,
     "metadata": {},
     "output_type": "execute_result"
    }
   ],
   "source": [
    "# Create the summary data frame\n",
    "purchasing_analysis_age = pd.DataFrame({\"Age\": [\"<10\", \"10-14\", \"15-19\", \"20-24\", \"25-29\", \"30-34\", \"35-39\", \"40+\"],\n",
    "                                        \"Purchase Count\": [under_ten[\"Price\"].count(), early_teens[\"Price\"].count(), late_teens[\"Price\"].count(), early_twenties[\"Price\"].count(), late_twenties[\"Price\"].count(), early_thirties[\"Price\"].count(), late_thirties[\"Price\"].count(), forty_plus[\"Price\"].count()],\n",
    "                                        \"Average Purchase Price\": [under_ten[\"Price\"].mean(), early_teens[\"Price\"].mean(), late_teens[\"Price\"].mean(), early_twenties[\"Price\"].mean(), late_twenties[\"Price\"].mean(), early_thirties[\"Price\"].mean(), late_thirties[\"Price\"].mean(), forty_plus[\"Price\"].mean()],\n",
    "                                        \"Total Purchase Value\": [under_ten[\"Price\"].sum(), early_teens[\"Price\"].sum(), late_teens[\"Price\"].sum(), early_twenties[\"Price\"].sum(), late_twenties[\"Price\"].sum(), early_thirties[\"Price\"].sum(), late_thirties[\"Price\"].sum(), forty_plus[\"Price\"].sum()],\n",
    "                                        \"Average Total Purchase per Person\": [under_ten[\"Price\"].sum() / len(under_ten[\"SN\"].unique()), early_teens[\"Price\"].sum() / len(early_teens[\"SN\"].unique()), late_teens[\"Price\"].sum() / len(late_teens[\"SN\"].unique()), early_twenties[\"Price\"].sum() / len(early_twenties[\"SN\"].unique()), late_twenties[\"Price\"].sum() / len(late_twenties[\"SN\"].unique()), early_thirties[\"Price\"].sum() / len(early_thirties[\"SN\"].unique()), late_thirties[\"Price\"].sum() / len(late_thirties[\"SN\"].unique()), forty_plus[\"Price\"].sum() / len(forty_plus[\"SN\"].unique())]})\n",
    "\n",
    "# Clean up the formatting of the summary data frame\n",
    "purchasing_analysis_age.style.format({\"Average Purchase Price\": \"${:.2f}\",\n",
    "                                      \"Total Purchase Value\": \"${:.2f}\",\n",
    "                                      \"Average Total Purchase per Person\": \"${:.2f}\"})"
   ]
  },
  {
   "cell_type": "markdown",
   "metadata": {},
   "source": [
    "## Top Spenders"
   ]
  },
  {
   "cell_type": "markdown",
   "metadata": {},
   "source": [
    "* Run basic calculations to obtain the results in the table below\n",
    "\n",
    "\n",
    "* Create a summary data frame to hold the results\n",
    "\n",
    "\n",
    "* Sort the total purchase value column in descending order\n",
    "\n",
    "\n",
    "* Optional: give the displayed data cleaner formatting\n",
    "\n",
    "\n",
    "* Display a preview of the summary data frame\n",
    "\n"
   ]
  },
  {
   "cell_type": "code",
   "execution_count": 8,
   "metadata": {},
   "outputs": [
    {
     "data": {
      "text/html": [
       "<style  type=\"text/css\" >\n",
       "</style>  \n",
       "<table id=\"T_4a0d4068_dfea_11e8_9a2b_685d43caeb20\" > \n",
       "<thead>    <tr> \n",
       "        <th class=\"blank level0\" ></th> \n",
       "        <th class=\"col_heading level0 col0\" >Purchase Count</th> \n",
       "        <th class=\"col_heading level0 col1\" >Average Purchase Price</th> \n",
       "        <th class=\"col_heading level0 col2\" >Total Purchase Value</th> \n",
       "    </tr>    <tr> \n",
       "        <th class=\"index_name level0\" >SN</th> \n",
       "        <th class=\"blank\" ></th> \n",
       "        <th class=\"blank\" ></th> \n",
       "        <th class=\"blank\" ></th> \n",
       "    </tr></thead> \n",
       "<tbody>    <tr> \n",
       "        <th id=\"T_4a0d4068_dfea_11e8_9a2b_685d43caeb20level0_row0\" class=\"row_heading level0 row0\" >Lisosia93</th> \n",
       "        <td id=\"T_4a0d4068_dfea_11e8_9a2b_685d43caeb20row0_col0\" class=\"data row0 col0\" >5</td> \n",
       "        <td id=\"T_4a0d4068_dfea_11e8_9a2b_685d43caeb20row0_col1\" class=\"data row0 col1\" >$3.79</td> \n",
       "        <td id=\"T_4a0d4068_dfea_11e8_9a2b_685d43caeb20row0_col2\" class=\"data row0 col2\" >$18.96</td> \n",
       "    </tr>    <tr> \n",
       "        <th id=\"T_4a0d4068_dfea_11e8_9a2b_685d43caeb20level0_row1\" class=\"row_heading level0 row1\" >Idastidru52</th> \n",
       "        <td id=\"T_4a0d4068_dfea_11e8_9a2b_685d43caeb20row1_col0\" class=\"data row1 col0\" >4</td> \n",
       "        <td id=\"T_4a0d4068_dfea_11e8_9a2b_685d43caeb20row1_col1\" class=\"data row1 col1\" >$3.86</td> \n",
       "        <td id=\"T_4a0d4068_dfea_11e8_9a2b_685d43caeb20row1_col2\" class=\"data row1 col2\" >$15.45</td> \n",
       "    </tr>    <tr> \n",
       "        <th id=\"T_4a0d4068_dfea_11e8_9a2b_685d43caeb20level0_row2\" class=\"row_heading level0 row2\" >Chamjask73</th> \n",
       "        <td id=\"T_4a0d4068_dfea_11e8_9a2b_685d43caeb20row2_col0\" class=\"data row2 col0\" >3</td> \n",
       "        <td id=\"T_4a0d4068_dfea_11e8_9a2b_685d43caeb20row2_col1\" class=\"data row2 col1\" >$4.61</td> \n",
       "        <td id=\"T_4a0d4068_dfea_11e8_9a2b_685d43caeb20row2_col2\" class=\"data row2 col2\" >$13.83</td> \n",
       "    </tr>    <tr> \n",
       "        <th id=\"T_4a0d4068_dfea_11e8_9a2b_685d43caeb20level0_row3\" class=\"row_heading level0 row3\" >Iral74</th> \n",
       "        <td id=\"T_4a0d4068_dfea_11e8_9a2b_685d43caeb20row3_col0\" class=\"data row3 col0\" >4</td> \n",
       "        <td id=\"T_4a0d4068_dfea_11e8_9a2b_685d43caeb20row3_col1\" class=\"data row3 col1\" >$3.40</td> \n",
       "        <td id=\"T_4a0d4068_dfea_11e8_9a2b_685d43caeb20row3_col2\" class=\"data row3 col2\" >$13.62</td> \n",
       "    </tr>    <tr> \n",
       "        <th id=\"T_4a0d4068_dfea_11e8_9a2b_685d43caeb20level0_row4\" class=\"row_heading level0 row4\" >Iskadarya95</th> \n",
       "        <td id=\"T_4a0d4068_dfea_11e8_9a2b_685d43caeb20row4_col0\" class=\"data row4 col0\" >3</td> \n",
       "        <td id=\"T_4a0d4068_dfea_11e8_9a2b_685d43caeb20row4_col1\" class=\"data row4 col1\" >$4.37</td> \n",
       "        <td id=\"T_4a0d4068_dfea_11e8_9a2b_685d43caeb20row4_col2\" class=\"data row4 col2\" >$13.10</td> \n",
       "    </tr></tbody> \n",
       "</table> "
      ],
      "text/plain": [
       "<pandas.io.formats.style.Styler at 0x8f62390>"
      ]
     },
     "execution_count": 8,
     "metadata": {},
     "output_type": "execute_result"
    }
   ],
   "source": [
    "# Create data frames to hold the purchasing data for each player\n",
    "player_purchases = pd.DataFrame(purchase_data.groupby(\"SN\")[\"Price\"].count())\n",
    "player_average_price = pd.DataFrame(purchase_data.groupby(\"SN\")[\"Price\"].mean())\n",
    "player_revenue = pd.DataFrame(purchase_data.groupby(\"SN\")[\"Price\"].sum())\n",
    "\n",
    "# Merge the data frames\n",
    "purchasing_analysis_player = pd.merge(player_purchases, player_average_price, left_index = True, right_index = True).merge(player_revenue, left_index = True, right_index = True)\n",
    "\n",
    "# Rename the column headers\n",
    "purchasing_analysis_player.rename(columns = {\"Price_x\": \"Purchase Count\",\n",
    "                                             \"Price_y\": \"Average Purchase Price\",\n",
    "                                             \"Price\": \"Total Purchase Value\"}, inplace = True)\n",
    "\n",
    "# Sort the merged data frame from greatest to lowest total purchase value\n",
    "purchasing_analysis_player.sort_values('Total Purchase Value', ascending = False, inplace = True)\n",
    "\n",
    "# Identify the top spenders to create the summary data frame\n",
    "top_spenders = purchasing_analysis_player.head()\n",
    "\n",
    "# Clean up the formatting of the summary data frame\n",
    "top_spenders.style.format({\"Average Purchase Price\": \"${:.2f}\",\n",
    "                           \"Total Purchase Value\": \"${:.2f}\"})"
   ]
  },
  {
   "cell_type": "markdown",
   "metadata": {},
   "source": [
    "## Most Popular Items"
   ]
  },
  {
   "cell_type": "markdown",
   "metadata": {},
   "source": [
    "* Retrieve the Item ID, Item Name, and Item Price columns\n",
    "\n",
    "\n",
    "* Group by Item ID and Item Name. Perform calculations to obtain purchase count, item price, and total purchase value\n",
    "\n",
    "\n",
    "* Create a summary data frame to hold the results\n",
    "\n",
    "\n",
    "* Sort the purchase count column in descending order\n",
    "\n",
    "\n",
    "* Optional: give the displayed data cleaner formatting\n",
    "\n",
    "\n",
    "* Display a preview of the summary data frame\n",
    "\n"
   ]
  },
  {
   "cell_type": "code",
   "execution_count": 9,
   "metadata": {
    "scrolled": true
   },
   "outputs": [
    {
     "name": "stderr",
     "output_type": "stream",
     "text": [
      "C:\\Users\\Ray\\Anaconda3\\lib\\site-packages\\ipykernel_launcher.py:7: FutureWarning: 'Item ID' is both an index level and a column label.\n",
      "Defaulting to column, but this will raise an ambiguity error in a future version\n",
      "  import sys\n"
     ]
    },
    {
     "data": {
      "text/html": [
       "<style  type=\"text/css\" >\n",
       "</style>  \n",
       "<table id=\"T_4a152fc6_dfea_11e8_a358_685d43caeb20\" > \n",
       "<thead>    <tr> \n",
       "        <th class=\"blank level0\" ></th> \n",
       "        <th class=\"col_heading level0 col0\" >Item ID</th> \n",
       "        <th class=\"col_heading level0 col1\" >Item Name</th> \n",
       "        <th class=\"col_heading level0 col2\" >Purchase Count</th> \n",
       "        <th class=\"col_heading level0 col3\" >Item Price</th> \n",
       "        <th class=\"col_heading level0 col4\" >Total Purchase Value</th> \n",
       "    </tr></thead> \n",
       "<tbody>    <tr> \n",
       "        <th id=\"T_4a152fc6_dfea_11e8_a358_685d43caeb20level0_row0\" class=\"row_heading level0 row0\" >753</th> \n",
       "        <td id=\"T_4a152fc6_dfea_11e8_a358_685d43caeb20row0_col0\" class=\"data row0 col0\" >178</td> \n",
       "        <td id=\"T_4a152fc6_dfea_11e8_a358_685d43caeb20row0_col1\" class=\"data row0 col1\" >Oathbreaker, Last Hope of the Breaking Storm</td> \n",
       "        <td id=\"T_4a152fc6_dfea_11e8_a358_685d43caeb20row0_col2\" class=\"data row0 col2\" >12</td> \n",
       "        <td id=\"T_4a152fc6_dfea_11e8_a358_685d43caeb20row0_col3\" class=\"data row0 col3\" >$4.23</td> \n",
       "        <td id=\"T_4a152fc6_dfea_11e8_a358_685d43caeb20row0_col4\" class=\"data row0 col4\" >$50.76</td> \n",
       "    </tr>    <tr> \n",
       "        <th id=\"T_4a152fc6_dfea_11e8_a358_685d43caeb20level0_row1\" class=\"row_heading level0 row1\" >769</th> \n",
       "        <td id=\"T_4a152fc6_dfea_11e8_a358_685d43caeb20row1_col0\" class=\"data row1 col0\" >145</td> \n",
       "        <td id=\"T_4a152fc6_dfea_11e8_a358_685d43caeb20row1_col1\" class=\"data row1 col1\" >Fiery Glass Crusader</td> \n",
       "        <td id=\"T_4a152fc6_dfea_11e8_a358_685d43caeb20row1_col2\" class=\"data row1 col2\" >9</td> \n",
       "        <td id=\"T_4a152fc6_dfea_11e8_a358_685d43caeb20row1_col3\" class=\"data row1 col3\" >$4.58</td> \n",
       "        <td id=\"T_4a152fc6_dfea_11e8_a358_685d43caeb20row1_col4\" class=\"data row1 col4\" >$41.22</td> \n",
       "    </tr>    <tr> \n",
       "        <th id=\"T_4a152fc6_dfea_11e8_a358_685d43caeb20level0_row2\" class=\"row_heading level0 row2\" >678</th> \n",
       "        <td id=\"T_4a152fc6_dfea_11e8_a358_685d43caeb20row2_col0\" class=\"data row2 col0\" >108</td> \n",
       "        <td id=\"T_4a152fc6_dfea_11e8_a358_685d43caeb20row2_col1\" class=\"data row2 col1\" >Extraction, Quickblade Of Trembling Hands</td> \n",
       "        <td id=\"T_4a152fc6_dfea_11e8_a358_685d43caeb20row2_col2\" class=\"data row2 col2\" >9</td> \n",
       "        <td id=\"T_4a152fc6_dfea_11e8_a358_685d43caeb20row2_col3\" class=\"data row2 col3\" >$3.53</td> \n",
       "        <td id=\"T_4a152fc6_dfea_11e8_a358_685d43caeb20row2_col4\" class=\"data row2 col4\" >$31.77</td> \n",
       "    </tr>    <tr> \n",
       "        <th id=\"T_4a152fc6_dfea_11e8_a358_685d43caeb20level0_row3\" class=\"row_heading level0 row3\" >666</th> \n",
       "        <td id=\"T_4a152fc6_dfea_11e8_a358_685d43caeb20row3_col0\" class=\"data row3 col0\" >82</td> \n",
       "        <td id=\"T_4a152fc6_dfea_11e8_a358_685d43caeb20row3_col1\" class=\"data row3 col1\" >Nirvana</td> \n",
       "        <td id=\"T_4a152fc6_dfea_11e8_a358_685d43caeb20row3_col2\" class=\"data row3 col2\" >9</td> \n",
       "        <td id=\"T_4a152fc6_dfea_11e8_a358_685d43caeb20row3_col3\" class=\"data row3 col3\" >$4.90</td> \n",
       "        <td id=\"T_4a152fc6_dfea_11e8_a358_685d43caeb20row3_col4\" class=\"data row3 col4\" >$44.10</td> \n",
       "    </tr>    <tr> \n",
       "        <th id=\"T_4a152fc6_dfea_11e8_a358_685d43caeb20level0_row4\" class=\"row_heading level0 row4\" >773</th> \n",
       "        <td id=\"T_4a152fc6_dfea_11e8_a358_685d43caeb20row4_col0\" class=\"data row4 col0\" >19</td> \n",
       "        <td id=\"T_4a152fc6_dfea_11e8_a358_685d43caeb20row4_col1\" class=\"data row4 col1\" >Pursuit, Cudgel of Necromancy</td> \n",
       "        <td id=\"T_4a152fc6_dfea_11e8_a358_685d43caeb20row4_col2\" class=\"data row4 col2\" >8</td> \n",
       "        <td id=\"T_4a152fc6_dfea_11e8_a358_685d43caeb20row4_col3\" class=\"data row4 col3\" >$1.02</td> \n",
       "        <td id=\"T_4a152fc6_dfea_11e8_a358_685d43caeb20row4_col4\" class=\"data row4 col4\" >$8.16</td> \n",
       "    </tr></tbody> \n",
       "</table> "
      ],
      "text/plain": [
       "<pandas.io.formats.style.Styler at 0x8f1c518>"
      ]
     },
     "execution_count": 9,
     "metadata": {},
     "output_type": "execute_result"
    }
   ],
   "source": [
    "# Create data frames to hold the purchasing data for each item\n",
    "item_purchases = pd.DataFrame(purchase_data.groupby(\"Item ID\")[\"Item ID\"].count())\n",
    "item_revenue = pd.DataFrame(purchase_data.groupby(\"Item ID\")[\"Price\"].sum())\n",
    "item_count = purchase_data.drop_duplicates([\"Item ID\"], keep = \"last\")\n",
    "\n",
    "# Sort the purchases data frame from greatest to lowest purchase count\n",
    "item_purchases.sort_values(\"Item ID\", ascending = False, inplace = True)\n",
    "\n",
    "# Merge the data frames to create the summary data frame\n",
    "item_purchases = pd.merge(item_purchases, item_revenue, left_index = True, right_index = True)\n",
    "financial_analysis_items = pd.merge(item_purchases, item_count, left_index = True, right_on = \"Item ID\")\n",
    "\n",
    "# Rename the column headers\n",
    "financial_analysis_items.rename(columns = {\"Item ID_x\": \"Purchase Count\",\n",
    "                                           \"Price_y\": \"Item Price\",\n",
    "                                           \"Price_x\": \"Total Purchase Value\"}, inplace = True)\n",
    "\n",
    "# Remove the unnecessary columns\n",
    "financial_analysis_items = financial_analysis_items[[\"Item ID\",\n",
    "                                                     \"Item Name\",\n",
    "                                                     \"Purchase Count\",\n",
    "                                                     \"Item Price\",\n",
    "                                                     \"Total Purchase Value\"]]\n",
    "\n",
    "# Identify the most popular items\n",
    "popular_items = financial_analysis_items.head()\n",
    "\n",
    "# Clean up the formatting of the summary data frame\n",
    "popular_items.style.format({\"Item Price\": \"${:.2f}\",\n",
    "                            \"Total Purchase Value\": \"${:.2f}\"})"
   ]
  },
  {
   "cell_type": "markdown",
   "metadata": {},
   "source": [
    "## Most Profitable Items"
   ]
  },
  {
   "cell_type": "markdown",
   "metadata": {},
   "source": [
    "* Sort the above table by total purchase value in descending order\n",
    "\n",
    "\n",
    "* Optional: give the displayed data cleaner formatting\n",
    "\n",
    "\n",
    "* Display a preview of the data frame\n",
    "\n"
   ]
  },
  {
   "cell_type": "code",
   "execution_count": 10,
   "metadata": {
    "scrolled": true
   },
   "outputs": [
    {
     "data": {
      "text/html": [
       "<style  type=\"text/css\" >\n",
       "</style>  \n",
       "<table id=\"T_4a1c0db0_dfea_11e8_96b6_685d43caeb20\" > \n",
       "<thead>    <tr> \n",
       "        <th class=\"blank level0\" ></th> \n",
       "        <th class=\"col_heading level0 col0\" >Item ID</th> \n",
       "        <th class=\"col_heading level0 col1\" >Item Name</th> \n",
       "        <th class=\"col_heading level0 col2\" >Purchase Count</th> \n",
       "        <th class=\"col_heading level0 col3\" >Item Price</th> \n",
       "        <th class=\"col_heading level0 col4\" >Total Purchase Value</th> \n",
       "    </tr></thead> \n",
       "<tbody>    <tr> \n",
       "        <th id=\"T_4a1c0db0_dfea_11e8_96b6_685d43caeb20level0_row0\" class=\"row_heading level0 row0\" >753</th> \n",
       "        <td id=\"T_4a1c0db0_dfea_11e8_96b6_685d43caeb20row0_col0\" class=\"data row0 col0\" >178</td> \n",
       "        <td id=\"T_4a1c0db0_dfea_11e8_96b6_685d43caeb20row0_col1\" class=\"data row0 col1\" >Oathbreaker, Last Hope of the Breaking Storm</td> \n",
       "        <td id=\"T_4a1c0db0_dfea_11e8_96b6_685d43caeb20row0_col2\" class=\"data row0 col2\" >12</td> \n",
       "        <td id=\"T_4a1c0db0_dfea_11e8_96b6_685d43caeb20row0_col3\" class=\"data row0 col3\" >$4.23</td> \n",
       "        <td id=\"T_4a1c0db0_dfea_11e8_96b6_685d43caeb20row0_col4\" class=\"data row0 col4\" >$50.76</td> \n",
       "    </tr>    <tr> \n",
       "        <th id=\"T_4a1c0db0_dfea_11e8_96b6_685d43caeb20level0_row1\" class=\"row_heading level0 row1\" >666</th> \n",
       "        <td id=\"T_4a1c0db0_dfea_11e8_96b6_685d43caeb20row1_col0\" class=\"data row1 col0\" >82</td> \n",
       "        <td id=\"T_4a1c0db0_dfea_11e8_96b6_685d43caeb20row1_col1\" class=\"data row1 col1\" >Nirvana</td> \n",
       "        <td id=\"T_4a1c0db0_dfea_11e8_96b6_685d43caeb20row1_col2\" class=\"data row1 col2\" >9</td> \n",
       "        <td id=\"T_4a1c0db0_dfea_11e8_96b6_685d43caeb20row1_col3\" class=\"data row1 col3\" >$4.90</td> \n",
       "        <td id=\"T_4a1c0db0_dfea_11e8_96b6_685d43caeb20row1_col4\" class=\"data row1 col4\" >$44.10</td> \n",
       "    </tr>    <tr> \n",
       "        <th id=\"T_4a1c0db0_dfea_11e8_96b6_685d43caeb20level0_row2\" class=\"row_heading level0 row2\" >769</th> \n",
       "        <td id=\"T_4a1c0db0_dfea_11e8_96b6_685d43caeb20row2_col0\" class=\"data row2 col0\" >145</td> \n",
       "        <td id=\"T_4a1c0db0_dfea_11e8_96b6_685d43caeb20row2_col1\" class=\"data row2 col1\" >Fiery Glass Crusader</td> \n",
       "        <td id=\"T_4a1c0db0_dfea_11e8_96b6_685d43caeb20row2_col2\" class=\"data row2 col2\" >9</td> \n",
       "        <td id=\"T_4a1c0db0_dfea_11e8_96b6_685d43caeb20row2_col3\" class=\"data row2 col3\" >$4.58</td> \n",
       "        <td id=\"T_4a1c0db0_dfea_11e8_96b6_685d43caeb20row2_col4\" class=\"data row2 col4\" >$41.22</td> \n",
       "    </tr>    <tr> \n",
       "        <th id=\"T_4a1c0db0_dfea_11e8_96b6_685d43caeb20level0_row3\" class=\"row_heading level0 row3\" >768</th> \n",
       "        <td id=\"T_4a1c0db0_dfea_11e8_96b6_685d43caeb20row3_col0\" class=\"data row3 col0\" >92</td> \n",
       "        <td id=\"T_4a1c0db0_dfea_11e8_96b6_685d43caeb20row3_col1\" class=\"data row3 col1\" >Final Critic</td> \n",
       "        <td id=\"T_4a1c0db0_dfea_11e8_96b6_685d43caeb20row3_col2\" class=\"data row3 col2\" >8</td> \n",
       "        <td id=\"T_4a1c0db0_dfea_11e8_96b6_685d43caeb20row3_col3\" class=\"data row3 col3\" >$4.88</td> \n",
       "        <td id=\"T_4a1c0db0_dfea_11e8_96b6_685d43caeb20row3_col4\" class=\"data row3 col4\" >$39.04</td> \n",
       "    </tr>    <tr> \n",
       "        <th id=\"T_4a1c0db0_dfea_11e8_96b6_685d43caeb20level0_row4\" class=\"row_heading level0 row4\" >714</th> \n",
       "        <td id=\"T_4a1c0db0_dfea_11e8_96b6_685d43caeb20row4_col0\" class=\"data row4 col0\" >103</td> \n",
       "        <td id=\"T_4a1c0db0_dfea_11e8_96b6_685d43caeb20row4_col1\" class=\"data row4 col1\" >Singed Scalpel</td> \n",
       "        <td id=\"T_4a1c0db0_dfea_11e8_96b6_685d43caeb20row4_col2\" class=\"data row4 col2\" >8</td> \n",
       "        <td id=\"T_4a1c0db0_dfea_11e8_96b6_685d43caeb20row4_col3\" class=\"data row4 col3\" >$4.35</td> \n",
       "        <td id=\"T_4a1c0db0_dfea_11e8_96b6_685d43caeb20row4_col4\" class=\"data row4 col4\" >$34.80</td> \n",
       "    </tr></tbody> \n",
       "</table> "
      ],
      "text/plain": [
       "<pandas.io.formats.style.Styler at 0x8f1c390>"
      ]
     },
     "execution_count": 10,
     "metadata": {},
     "output_type": "execute_result"
    }
   ],
   "source": [
    "# Create data frames to hold the purchasing data for each item\n",
    "item_revenue = pd.DataFrame(purchase_data.groupby(\"Item ID\")[\"Price\"].sum())\n",
    "item_purchases = pd.DataFrame(purchase_data.groupby(\"Item ID\")[\"Item ID\"].count())\n",
    "\n",
    "# Sort the revenue data frame from greatest to lowest total purchase value\n",
    "item_revenue.sort_values(\"Price\", ascending = False, inplace = True)\n",
    "\n",
    "# Merge the data frames to create the summary data frame\n",
    "item_revenue = pd.merge(item_revenue, item_purchases, left_index = True, right_index = True)\n",
    "financial_analysis_items = pd.merge(item_revenue, item_count, left_index = True, right_on = \"Item ID\")\n",
    "\n",
    "# Rename the column headers\n",
    "financial_analysis_items.rename(columns = {\"Item ID_x\": \"Purchase Count\",\n",
    "                                           \"Price_y\": \"Item Price\",\n",
    "                                           \"Price_x\": \"Total Purchase Value\"}, inplace = True)\n",
    "\n",
    "# Remove the unnecessary columns\n",
    "financial_analysis_items = financial_analysis_items[[\"Item ID\",\n",
    "                                                     \"Item Name\",\n",
    "                                                     \"Purchase Count\",\n",
    "                                                     \"Item Price\",\n",
    "                                                     \"Total Purchase Value\"]]\n",
    "\n",
    "# Identify the most profitable items\n",
    "profitable_items = financial_analysis_items.head()\n",
    "\n",
    "# Clean up the formatting of the summary data frame\n",
    "profitable_items.style.format({\"Item Price\": \"${:.2f}\",\n",
    "                               \"Total Purchase Value\": \"${:.2f}\"})"
   ]
  }
 ],
 "metadata": {
  "anaconda-cloud": {},
  "kernel_info": {
   "name": "python3"
  },
  "kernelspec": {
   "display_name": "Python 3",
   "language": "python",
   "name": "python3"
  },
  "language_info": {
   "codemirror_mode": {
    "name": "ipython",
    "version": 3
   },
   "file_extension": ".py",
   "mimetype": "text/x-python",
   "name": "python",
   "nbconvert_exporter": "python",
   "pygments_lexer": "ipython3",
   "version": "3.7.0"
  },
  "nteract": {
   "version": "0.2.0"
  }
 },
 "nbformat": 4,
 "nbformat_minor": 2
}
